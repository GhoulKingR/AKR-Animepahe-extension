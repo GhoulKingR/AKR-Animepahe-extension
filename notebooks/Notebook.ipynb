{
 "cells": [
  {
   "cell_type": "code",
   "execution_count": 14,
   "id": "03f61225-3a41-47f1-a4d1-e58310a75327",
   "metadata": {},
   "outputs": [],
   "source": [
    "from selenium import webdriver\n",
    "from selenium_stealth import stealth\n",
    "from selenium.webdriver.common.by import By\n",
    "from selenium.webdriver.chrome.options import Options\n",
    "from tqdm import tqdm\n",
    "import requests\n",
    "import time\n",
    "import math\n",
    "import json"
   ]
  },
  {
   "cell_type": "code",
   "execution_count": 4,
   "id": "15d17071-5c58-4184-a18f-e7a8c8987f6b",
   "metadata": {},
   "outputs": [],
   "source": [
    "options = webdriver.ChromeOptions()\n",
    "options.add_argument(\"start-maximized\")\n",
    "# options.add_argument(\"--headless\")\n",
    "options.add_experimental_option(\"excludeSwitches\", [\"enable-automation\"])\n",
    "options.add_experimental_option('useAutomationExtension', False)\n",
    "\n",
    "driver = webdriver.Chrome(options=options)"
   ]
  },
  {
   "cell_type": "code",
   "execution_count": 5,
   "id": "b70f0fb3-fe70-49a9-b3eb-22c0fb454aea",
   "metadata": {},
   "outputs": [],
   "source": [
    "# stealth(driver,\n",
    "#     languages=[\"en-US\", \"en\"],\n",
    "#     vendor=\"Google Inc.\",\n",
    "#     platform=\"Win32\",\n",
    "#     webgl_vendor=\"Intel Inc.\",\n",
    "#     renderer=\"Intel Iris OpenGL Engine\",\n",
    "#     fix_hairline=True,\n",
    "# )"
   ]
  },
  {
   "cell_type": "code",
   "execution_count": 10,
   "id": "f7657324-0508-439a-b20a-05cfcc8eb55e",
   "metadata": {},
   "outputs": [],
   "source": [
    "driver.get(\"https://animepahe.ru/api?m=search&q=Classroom of the elites\")"
   ]
  },
  {
   "cell_type": "code",
   "execution_count": 11,
   "id": "3149d54d-0b19-4c45-bace-720f53a24797",
   "metadata": {},
   "outputs": [
    {
     "name": "stdout",
     "output_type": "stream",
     "text": [
      "{'total': 28, 'per_page': 8, 'current_page': 1, 'last_page': 4, 'from': 1, 'to': 8, 'data': [{'id': 2212, 'title': 'Classroom of the Elite', 'type': 'TV', 'episodes': 12, 'status': 'Finished Airing', 'season': 'Summer', 'year': 2017, 'score': 7.86, 'poster': 'https://i.animepahe.ru/posters/ec13a6ead81684e5105536f66ac0b205ca840e20e7ed7b17a003b7e58bde6251.jpg', 'session': '0abeaea1-718e-dfa4-99fd-9dd31e579802'}, {'id': 4810, 'title': 'Classroom of the Elite II', 'type': 'TV', 'episodes': 13, 'status': 'Finished Airing', 'season': 'Summer', 'year': 2022, 'score': 8.12, 'poster': 'https://i.animepahe.ru/posters/935d3af342283deca3325a5dc494169918eea63bed767ad7e15f02df7630813e.jpg', 'session': '417abac1-8014-c547-8e10-e0d0ae5cab4e'}, {'id': 5422, 'title': 'Classroom of the Elite III', 'type': 'TV', 'episodes': 13, 'status': 'Currently Airing', 'season': 'Winter', 'year': 2024, 'score': 8.15, 'poster': 'https://i.animepahe.ru/posters/068d48fcef22d608dc9b3109d1aaa2dc5bd5f67de56870b87b78747f73d575cf.jpg', 'session': '15c94485-fac1-0e5c-28d6-4915f51c8c9f'}, {'id': 901, 'title': 'Anne Happy♪', 'type': 'TV', 'episodes': 12, 'status': 'Finished Airing', 'season': 'Spring', 'year': 2016, 'score': 6.95, 'poster': 'https://i.animepahe.ru/posters/d836386e14de8afead698753b5948d765a16c7b6ad55d6c89c39e8da3a583949.jpg', 'session': '2ad1d783-7969-642d-ef55-ee15a678ef06'}, {'id': 1079, 'title': 'Danganronpa: Kibou no Gakuen to Zetsubou no Koukousei The Animation', 'type': 'TV', 'episodes': 13, 'status': 'Finished Airing', 'season': 'Summer', 'year': 2013, 'score': 7.21, 'poster': 'https://i.animepahe.ru/posters/5e57bd2c4ead8d6bcf180fcb5ee3350aefae7df8534144ae704bad9ec7dbbb1a.jpg', 'session': '9ce3524f-2ceb-7b89-abbe-cfae5d1e0bfa'}, {'id': 477, 'title': 'Ansatsu Kyoushitsu', 'type': 'TV', 'episodes': 22, 'status': 'Finished Airing', 'season': 'Winter', 'year': 2015, 'score': 8.08, 'poster': 'https://i.animepahe.ru/posters/4e01fe6e566f8b27089794b4562f1417717fe589cdc86cd2912f991c11c86958.jpg', 'session': 'b105cbb5-f45a-cbf2-13c8-bd28c68a9259'}, {'id': 1284, 'title': 'Classroom☆Crisis', 'type': 'TV', 'episodes': 13, 'status': 'Finished Airing', 'season': 'Summer', 'year': 2015, 'score': 6.96, 'poster': 'https://i.animepahe.ru/posters/d13f6b101e238ab479f6e5688200f99135fbafebfb5859936753d3b8f324bbd4.jpg', 'session': '8e87d183-9dd6-aa26-5042-4eb220a5da9d'}, {'id': 2998, 'title': 'Ansatsu Kyoushitsu: 365-nichi no Jikan', 'type': 'Movie', 'episodes': 1, 'status': 'Finished Airing', 'season': 'Fall', 'year': 2016, 'score': 7.35, 'poster': 'https://i.animepahe.ru/posters/6406d20bbaabf2e4ef735c961094f931e08e9146a1c8c791dad79148b6d2494a.jpg', 'session': 'aabdf1b8-9e76-cf7a-8226-2ebe9a8cc389'}]}\n"
     ]
    }
   ],
   "source": [
    "text =  driver.find_element(By.TAG_NAME, \"pre\")\n",
    "jsonres = json.loads(text.get_attribute(\"innerHTML\"))\n",
    "print(jsonres)"
   ]
  },
  {
   "cell_type": "code",
   "execution_count": 8,
   "id": "e8f426f9-c5bc-4e62-958c-aa0032bde3a0",
   "metadata": {},
   "outputs": [],
   "source": [
    "driver.get(\"https://google.com\")\n",
    "\n",
    "# input = driver.find_element(By.CLASS_NAME, \"input-search\")\n",
    "# input.send_keys(\"One piece\")"
   ]
  },
  {
   "cell_type": "code",
   "execution_count": null,
   "id": "d7ff4f46-808c-494e-8205-1b6f9a326d4e",
   "metadata": {},
   "outputs": [],
   "source": [
    "# Get search results\n",
    "# search_result_wrap = driver.find_element(By.CLASS_NAME, \"search-results-wrap\")\n",
    "\n",
    "# while True:\n",
    "#     try:\n",
    "#         ul =  search_result_wrap.find_element(By.CLASS_NAME, \"search-results\")\n",
    "#         li = ul.find_elements(By.TAG_NAME, \"li\")\n",
    "#         for anime in li:\n",
    "#             a = anime.find_element(By.TAG_NAME, \"a\")\n",
    "#             result_title = a.find_element(By.CLASS_NAME, \"result-title\")\n",
    "#             print (result_title.text.strip())\n",
    "#         break\n",
    "#     except Exception as e:\n",
    "#         print (f\"Couldn't find the results. Retrying in 5s: {e}\")\n",
    "#         time.sleep(5)"
   ]
  },
  {
   "cell_type": "code",
   "execution_count": null,
   "id": "c4c786bc-cbdc-452a-a989-348c874cd530",
   "metadata": {},
   "outputs": [],
   "source": [
    "\n",
    "response = requests.get(\"https://animepahe.ru/api?m=search&q=Classroom of the elites\")\n",
    "jsonres = None\n",
    "\n",
    "if response.status_code == 200:\n",
    "    # Print the response content (usually in JSON format for APIs)\n",
    "    jsonres = response.json()\n",
    "    print(jsonres)\n",
    "else:\n",
    "    # Print an error message if the request was not successful\n",
    "    print(f\"Error: {response.status_code} - {response.text}\")"
   ]
  },
  {
   "cell_type": "code",
   "execution_count": 12,
   "id": "a22ecd7a-aff7-4aeb-b446-69691a18a2ed",
   "metadata": {},
   "outputs": [],
   "source": [
    "driver.get(f\"https://animepahe.ru/anime/{jsonres['data'][0]['session']}\")"
   ]
  },
  {
   "cell_type": "code",
   "execution_count": 17,
   "id": "2d66b557-fb1f-4e10-b2c0-72acb184d41d",
   "metadata": {},
   "outputs": [
    {
     "data": {
      "text/plain": [
       "'<!doctype html><html><head><title>DDoS-Guard</title><meta charset=\"utf-8\"/><meta name=\"viewport\" content=\"width=device-width,initial-scale=1\"/><link rel=\"stylesheet\" href=\"/.well-known/ddos-guard/js-challenge/index.css\"><script defer=\"defer\" src=\"/.well-known/ddos-guard/js-challenge/view.js\"></script><script defer=\"defer\" src=\"/.well-known/ddos-guard/js-challenge/index.js\"></script><script src=\"https://check.ddos-guard.net/check.js\"></script></head><body><div class=\"container\"><div class=\"logo\"><img id=\"img-logo\" src=\"\" alt=\"logo\"/></div><div id=\"title\"></div><div id=\"description\"></div><div id=\"link-ddg\"><a href=\"\" target=\"_blank\" id=\"link\"></a></div><div class=\"lds\"><img id=\"img-loading\" src=\"\" alt=\"loading\"/></div></div></body></html>'"
      ]
     },
     "execution_count": 17,
     "metadata": {},
     "output_type": "execute_result"
    }
   ],
   "source": [
    "response = requests.get(f\"https://animepahe.ru/api?m=release&id={jsonres['data'][0]['session']}&sort=episode_asc&page=1\")\n",
    "anime_details = response.text\n",
    "\n",
    "anime_details"
   ]
  },
  {
   "cell_type": "code",
   "execution_count": null,
   "id": "0e1d0970-cbd9-44dd-bc72-b84290602c9d",
   "metadata": {},
   "outputs": [],
   "source": [
    "# getting the episodes\n",
    "def get_episode_link(episode, total):\n",
    "    page = math.ceil(episode/30)\n",
    "    response = requests.get(f\"https://animepahe.ru/api?m=release&id={jsonres['data'][0]['session']}&sort=episode_asc&page={page}\").json()\n",
    "    position = (episode - (page - 1) * 30) - 1\n",
    "    return f\"https://animepahe.ru/play/{jsonres['data'][0]['session']}/{response['data'][position]['session']}\"\n",
    "        \n",
    "link = get_episode_link(1, anime_details['total'])\n",
    "link"
   ]
  },
  {
   "cell_type": "code",
   "execution_count": null,
   "id": "17b12f1a-1362-446e-9a29-bd36320516e1",
   "metadata": {},
   "outputs": [],
   "source": [
    "\n",
    "requests.get(\n",
    "    \"https://animepahe.ru/play/1f0c2e22-a432-cda9-7ac8-e6cbc7852a93/a1f3c490883a2f81cd39f1c915b8f0487d1827687d15531263ac3f600f331a77\",\n",
    "    headers={\n",
    "        'User-Agent': 'Mozilla/5.0 (Macintosh; Intel Mac OS X 10_15_7) AppleWebKit/605.1.15 (KHTML, like Gecko) Version/17.1 Safari/605.1.15'\n",
    "    }\n",
    ").text"
   ]
  },
  {
   "cell_type": "code",
   "execution_count": null,
   "id": "b359fcc6-a8b0-463a-81f0-afdff72b57ed",
   "metadata": {},
   "outputs": [],
   "source": [
    "driver.get(link)"
   ]
  },
  {
   "cell_type": "code",
   "execution_count": null,
   "id": "7ea9b395-9896-49ff-a740-405598e0c0a3",
   "metadata": {},
   "outputs": [],
   "source": [
    "# Get quality lists\n",
    "qualities = []\n",
    "\n",
    "for a in driver.find_elements(By.CSS_SELECTOR, \"#pickDownload .dropdown-item\"):\n",
    "    quality_text = a.get_attribute(\"innerText\").split(\" \")\n",
    "    sub_dub = 'Dubbed' if quality_text[-1] == 'eng' else 'Subbed'\n",
    "    quality = quality_text[2]\n",
    "    size = quality_text[3][1:-1]\n",
    "    quality = {\n",
    "        \"name\": f\"{quality}\\t\\t{size}\\t\\t{sub_dub}\", #a.get_attribute(\"innerHTML\").split(\" \")[2],\n",
    "        \"link\": a.get_attribute(\"href\")\n",
    "    }\n",
    "    qualities.append(quality)\n",
    "\n",
    "qualities"
   ]
  },
  {
   "cell_type": "code",
   "execution_count": null,
   "id": "d4a408aa-63d8-498a-829d-c75ee40662cd",
   "metadata": {},
   "outputs": [],
   "source": [
    "qualities[0]['link']"
   ]
  },
  {
   "cell_type": "code",
   "execution_count": null,
   "id": "6d145efb-0440-4181-b7fa-edd3644f7763",
   "metadata": {},
   "outputs": [],
   "source": [
    "driver.get(qualities[0]['link'])"
   ]
  },
  {
   "cell_type": "code",
   "execution_count": null,
   "id": "824c2558-7fdc-474a-99d5-6ab86a1fb8ce",
   "metadata": {},
   "outputs": [],
   "source": [
    "# Get the continue button\n",
    "link_to_download = \"\"\n",
    "\n",
    "while True:\n",
    "    try:\n",
    "        a = driver.find_element(By.XPATH, \"//a[text()='Continue']\")\n",
    "        link_to_download = a.get_attribute(\"href\")\n",
    "        break\n",
    "    except:\n",
    "        print(\"Couldn't find button, waiting 7s\")\n",
    "        time.sleep(7)\n",
    " \n",
    "link_to_download"
   ]
  },
  {
   "cell_type": "code",
   "execution_count": null,
   "id": "1ff9e86f-a39a-42e5-80dc-96c5deb5bc7b",
   "metadata": {},
   "outputs": [],
   "source": [
    "driver.get(link_to_download)"
   ]
  },
  {
   "cell_type": "code",
   "execution_count": null,
   "id": "125dd523-df8b-46b2-9faa-ef62d7e94c6d",
   "metadata": {},
   "outputs": [],
   "source": [
    "# Find button and click it\n",
    "link = driver.find_element(By.CSS_SELECTOR, \".main .download form\").get_attribute(\"action\")\n",
    "token = driver.find_element(By.CSS_SELECTOR, \".main .download form input\").get_attribute(\"value\")\n",
    "print(\"Link:\", link)\n",
    "print(\"Token:\", token)\n"
   ]
  },
  {
   "cell_type": "code",
   "execution_count": null,
   "id": "44005825-38e8-4a75-9326-38042d50d977",
   "metadata": {},
   "outputs": [],
   "source": [
    "# cookies = {}\n",
    "# for cookie in driver.get_cookies():\n",
    "#     cookies[cookie['name']] = cookie['value']\n",
    "# cookies\n",
    "\n",
    "cookies = '; '.join([\n",
    "    f\"{cookie['name']}={cookie['value']}\"\n",
    "    for cookie in driver.get_cookies()\n",
    "])\n",
    "cookies"
   ]
  },
  {
   "cell_type": "code",
   "execution_count": null,
   "id": "b08f1fea-c241-4045-90a6-04742bf2b310",
   "metadata": {},
   "outputs": [],
   "source": [
    "data = {\n",
    "    \"_token\": token\n",
    "}\n",
    "headers = {\n",
    "  'User-Agent': 'Mozilla/5.0 (Macintosh; Intel Mac OS X 10.15; rv:121.0) Gecko/20100101 Firefox/121.0',\n",
    "  'Referer': 'https://kwik.cx/f/r6gCLSqIe9Nh',\n",
    "  'Origin': 'https://kwik.cx',\n",
    "  'Host': 'kwik.cx',\n",
    "  'Cookie': cookies\n",
    "}"
   ]
  },
  {
   "cell_type": "code",
   "execution_count": null,
   "id": "1fa207f5-0f2e-4d48-8d9d-973346d25390",
   "metadata": {},
   "outputs": [],
   "source": [
    "\n",
    "data = {\n",
    "    \"_token\": token\n",
    "}\n",
    "response = requests.post(link, data=data, headers=headers, stream=True)\n",
    "file_name = response.headers.get('Content-Disposition').split('=')[1]\n",
    "print(file_name)\n",
    "\n",
    "response.raise_for_status()\n",
    "\n",
    "total_size = int(response.headers.get('content-length', 0))\n",
    "block_size = 1024  # 1 Kibibyte\n",
    "\n",
    "progress_bar = tqdm(total=total_size, unit='iB', unit_scale=True)\n",
    "\n",
    "with open(file_name, 'wb') as file:\n",
    "    for data in response.iter_content(block_size):\n",
    "        progress_bar.update(len(data))\n",
    "        file.write(data)\n",
    "\n",
    "progress_bar.close()"
   ]
  },
  {
   "cell_type": "code",
   "execution_count": null,
   "id": "86409a06-6605-44b1-9d93-18d9f3f6ea53",
   "metadata": {},
   "outputs": [],
   "source": []
  }
 ],
 "metadata": {
  "kernelspec": {
   "display_name": "Python 3 (ipykernel)",
   "language": "python",
   "name": "python3"
  },
  "language_info": {
   "codemirror_mode": {
    "name": "ipython",
    "version": 3
   },
   "file_extension": ".py",
   "mimetype": "text/x-python",
   "name": "python",
   "nbconvert_exporter": "python",
   "pygments_lexer": "ipython3",
   "version": "3.8.16"
  }
 },
 "nbformat": 4,
 "nbformat_minor": 5
}
